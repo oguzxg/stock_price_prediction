{
 "cells": [
  {
   "cell_type": "markdown",
   "metadata": {},
   "source": [
    "# 1. Initialize Environment"
   ]
  },
  {
   "cell_type": "code",
   "execution_count": 2,
   "metadata": {},
   "outputs": [],
   "source": [
    "#!pip install pandas\n",
    "#!pip install numpy\n",
    "#!pip install scikit-learn\n",
    "#!pip install tensorflow\n",
    "#!pip install matplotlib"
   ]
  },
  {
   "cell_type": "code",
   "execution_count": 3,
   "metadata": {},
   "outputs": [],
   "source": [
    "# Importing the libraries\n",
    "import numpy as np\n",
    "import matplotlib.pyplot as plt\n",
    "import pandas as pd\n",
    "import time\n",
    "\n",
    "from sklearn.preprocessing import MinMaxScaler #import MinMaxScaler class from sklearn.preprocessing module\n",
    "\n",
    "# Importing the Keras libraries and packages\n",
    "from keras.models import Sequential  # to build sequential layers \n",
    "from keras.layers import Dense       # to build dense output layer \n",
    "from keras.layers import LSTM        # to build LSTM\n",
    "from keras.layers import Dropout     # to apply Dropout regularization"
   ]
  },
  {
   "cell_type": "markdown",
   "metadata": {},
   "source": [
    "# 2. Data Preprocessing"
   ]
  },
  {
   "cell_type": "code",
   "execution_count": 4,
   "metadata": {},
   "outputs": [
    {
     "data": {
      "text/html": [
       "<div>\n",
       "<style scoped>\n",
       "    .dataframe tbody tr th:only-of-type {\n",
       "        vertical-align: middle;\n",
       "    }\n",
       "\n",
       "    .dataframe tbody tr th {\n",
       "        vertical-align: top;\n",
       "    }\n",
       "\n",
       "    .dataframe thead th {\n",
       "        text-align: right;\n",
       "    }\n",
       "</style>\n",
       "<table border=\"1\" class=\"dataframe\">\n",
       "  <thead>\n",
       "    <tr style=\"text-align: right;\">\n",
       "      <th></th>\n",
       "      <th>Date</th>\n",
       "      <th>Open</th>\n",
       "      <th>High</th>\n",
       "      <th>Low</th>\n",
       "      <th>Close</th>\n",
       "      <th>Volume</th>\n",
       "    </tr>\n",
       "  </thead>\n",
       "  <tbody>\n",
       "    <tr>\n",
       "      <th>0</th>\n",
       "      <td>1/3/2012</td>\n",
       "      <td>325.25</td>\n",
       "      <td>332.83</td>\n",
       "      <td>324.97</td>\n",
       "      <td>663.59</td>\n",
       "      <td>7,380,500</td>\n",
       "    </tr>\n",
       "    <tr>\n",
       "      <th>1</th>\n",
       "      <td>1/4/2012</td>\n",
       "      <td>331.27</td>\n",
       "      <td>333.87</td>\n",
       "      <td>329.08</td>\n",
       "      <td>666.45</td>\n",
       "      <td>5,749,400</td>\n",
       "    </tr>\n",
       "    <tr>\n",
       "      <th>2</th>\n",
       "      <td>1/5/2012</td>\n",
       "      <td>329.83</td>\n",
       "      <td>330.75</td>\n",
       "      <td>326.89</td>\n",
       "      <td>657.21</td>\n",
       "      <td>6,590,300</td>\n",
       "    </tr>\n",
       "    <tr>\n",
       "      <th>3</th>\n",
       "      <td>1/6/2012</td>\n",
       "      <td>328.34</td>\n",
       "      <td>328.77</td>\n",
       "      <td>323.68</td>\n",
       "      <td>648.24</td>\n",
       "      <td>5,405,900</td>\n",
       "    </tr>\n",
       "    <tr>\n",
       "      <th>4</th>\n",
       "      <td>1/9/2012</td>\n",
       "      <td>322.04</td>\n",
       "      <td>322.29</td>\n",
       "      <td>309.46</td>\n",
       "      <td>620.76</td>\n",
       "      <td>11,688,800</td>\n",
       "    </tr>\n",
       "  </tbody>\n",
       "</table>\n",
       "</div>"
      ],
      "text/plain": [
       "       Date    Open    High     Low   Close      Volume\n",
       "0  1/3/2012  325.25  332.83  324.97  663.59   7,380,500\n",
       "1  1/4/2012  331.27  333.87  329.08  666.45   5,749,400\n",
       "2  1/5/2012  329.83  330.75  326.89  657.21   6,590,300\n",
       "3  1/6/2012  328.34  328.77  323.68  648.24   5,405,900\n",
       "4  1/9/2012  322.04  322.29  309.46  620.76  11,688,800"
      ]
     },
     "execution_count": 4,
     "metadata": {},
     "output_type": "execute_result"
    }
   ],
   "source": [
    "train = pd.read_csv('data/Google_Stock_Price_Train.csv') # import the data set\n",
    "train.head(5)"
   ]
  },
  {
   "cell_type": "code",
   "execution_count": 5,
   "metadata": {},
   "outputs": [
    {
     "data": {
      "text/plain": [
       "array([[325.25],\n",
       "       [331.27],\n",
       "       [329.83],\n",
       "       ...,\n",
       "       [793.7 ],\n",
       "       [783.33],\n",
       "       [782.75]])"
      ]
     },
     "execution_count": 5,
     "metadata": {},
     "output_type": "execute_result"
    }
   ],
   "source": [
    "# select the column which is interesting to see the trend in it and create a numpy array out of it \n",
    "train = train.iloc[:, 1:2].values \n",
    "train"
   ]
  },
  {
   "cell_type": "code",
   "execution_count": 6,
   "metadata": {},
   "outputs": [],
   "source": [
    "sc = MinMaxScaler(feature_range = (0, 1))             # all the new stock prices will be between 0 and 1\n",
    "\n",
    "# apply the normalizer on the  training data set and create an scaled dataset\n",
    "train = sc.fit_transform(train)  "
   ]
  },
  {
   "cell_type": "code",
   "execution_count": 7,
   "metadata": {},
   "outputs": [],
   "source": [
    "# Creating a data structure with 60 timesteps and 1 output\n",
    "# this means that at each day it is going to look at the 60 days before to predict the next day. \n",
    "# it means that it would be 60 timesteps and one output (stock price) at time T+1\n",
    "\n",
    "\n",
    "# two empty lists are created to store the training data\n",
    "X_train = []\n",
    "y_train = []\n",
    "\n",
    "#create a loop\n",
    "# for each observation X_train will have 60 stcok prices from 60 days before \n",
    "# and y_train would be the stock price of the next day\n",
    "for i in range(60, 1258):\n",
    "    X_train.append(train[i-60:i, 0])\n",
    "    y_train.append(train[i, 0])\n",
    "    \n",
    "#use the array function of Numpy to create array from X_train and y_train\n",
    "X_train, y_train = np.array(X_train), np.array(y_train)"
   ]
  },
  {
   "cell_type": "code",
   "execution_count": 8,
   "metadata": {},
   "outputs": [],
   "source": [
    "# Reshaping\n",
    "# to add dimension to data set we can use Reshape function \n",
    "# this is because we need to have the input in shape of 3D array with shape\n",
    "# (batch_size/number of Observations, timesteps, input_dim/number of indicators)\n",
    "X_train = np.reshape(X_train, (X_train.shape[0], X_train.shape[1], 1))"
   ]
  },
  {
   "cell_type": "markdown",
   "metadata": {},
   "source": [
    "# 3. Model Engineering (LSTM)"
   ]
  },
  {
   "cell_type": "code",
   "execution_count": 19,
   "metadata": {},
   "outputs": [
    {
     "name": "stdout",
     "output_type": "stream",
     "text": [
      "Model: \"sequential_2\"\n",
      "_________________________________________________________________\n",
      " Layer (type)                Output Shape              Param #   \n",
      "=================================================================\n",
      " lstm_10 (LSTM)              (None, 60, 64)            16896     \n",
      "                                                                 \n",
      " lstm_11 (LSTM)              (None, 60, 64)            33024     \n",
      "                                                                 \n",
      " lstm_12 (LSTM)              (None, 60, 64)            33024     \n",
      "                                                                 \n",
      " lstm_13 (LSTM)              (None, 60, 64)            33024     \n",
      "                                                                 \n",
      " lstm_14 (LSTM)              (None, 60, 64)            33024     \n",
      "                                                                 \n",
      " lstm_15 (LSTM)              (None, 64)                33024     \n",
      "                                                                 \n",
      " dense_2 (Dense)             (None, 1)                 65        \n",
      "                                                                 \n",
      "=================================================================\n",
      "Total params: 182081 (711.25 KB)\n",
      "Trainable params: 182081 (711.25 KB)\n",
      "Non-trainable params: 0 (0.00 Byte)\n",
      "_________________________________________________________________\n"
     ]
    }
   ],
   "source": [
    "### 1st Model\n",
    "model = Sequential() \n",
    "\n",
    "model.add(LSTM(units = 64,return_sequences = True, input_shape = (X_train.shape[1], 1)))\n",
    "\n",
    "model.add(LSTM(units = 64,return_sequences = True, input_shape = (X_train.shape[1], 1)))\n",
    "\n",
    "model.add(LSTM(units = 64,return_sequences = True, input_shape = (X_train.shape[1], 1)))\n",
    "\n",
    "model.add(LSTM(units = 64,return_sequences = True, input_shape = (X_train.shape[1], 1)))\n",
    "\n",
    "model.add(LSTM(units = 64,return_sequences = True, input_shape = (X_train.shape[1], 1)))\n",
    "\n",
    "model.add(LSTM(units = 64))\n",
    "\n",
    "model.add(Dense(units = 1))\n",
    "\n",
    "model.summary()"
   ]
  },
  {
   "cell_type": "code",
   "execution_count": 20,
   "metadata": {},
   "outputs": [
    {
     "name": "stdout",
     "output_type": "stream",
     "text": [
      "Epoch 1/30\n",
      "150/150 [==============================] - 25s 104ms/step - loss: 0.0150\n",
      "Epoch 2/30\n",
      "150/150 [==============================] - 14s 90ms/step - loss: 0.0045\n",
      "Epoch 3/30\n",
      "150/150 [==============================] - 13s 85ms/step - loss: 0.0038\n",
      "Epoch 4/30\n",
      "150/150 [==============================] - 13s 84ms/step - loss: 0.0030\n",
      "Epoch 5/30\n",
      "150/150 [==============================] - 13s 85ms/step - loss: 0.0024\n",
      "Epoch 6/30\n",
      "150/150 [==============================] - 13s 88ms/step - loss: 0.0023\n",
      "Epoch 7/30\n",
      "150/150 [==============================] - 13s 89ms/step - loss: 0.0023\n",
      "Epoch 8/30\n",
      "150/150 [==============================] - 14s 90ms/step - loss: 0.0023\n",
      "Epoch 9/30\n",
      "150/150 [==============================] - 13s 88ms/step - loss: 0.0019\n",
      "Epoch 10/30\n",
      "150/150 [==============================] - 14s 90ms/step - loss: 0.0018\n",
      "Epoch 11/30\n",
      "150/150 [==============================] - 13s 88ms/step - loss: 0.0015\n",
      "Epoch 12/30\n",
      "150/150 [==============================] - 13s 89ms/step - loss: 0.0015\n",
      "Epoch 13/30\n",
      "150/150 [==============================] - 13s 89ms/step - loss: 0.0012\n",
      "Epoch 14/30\n",
      "150/150 [==============================] - 14s 91ms/step - loss: 9.4757e-04\n",
      "Epoch 15/30\n",
      "150/150 [==============================] - 13s 88ms/step - loss: 8.9653e-04\n",
      "Epoch 16/30\n",
      "150/150 [==============================] - 13s 88ms/step - loss: 7.9605e-04\n",
      "Epoch 17/30\n",
      "150/150 [==============================] - 13s 87ms/step - loss: 7.8776e-04\n",
      "Epoch 18/30\n",
      "150/150 [==============================] - 13s 84ms/step - loss: 6.6920e-04\n",
      "Epoch 19/30\n",
      "150/150 [==============================] - 13s 87ms/step - loss: 6.7666e-04\n",
      "Epoch 20/30\n",
      "150/150 [==============================] - 13s 88ms/step - loss: 6.4288e-04\n",
      "Epoch 21/30\n",
      "150/150 [==============================] - 13s 89ms/step - loss: 6.5068e-04\n",
      "Epoch 22/30\n",
      "150/150 [==============================] - 13s 85ms/step - loss: 6.7158e-04\n",
      "Epoch 23/30\n",
      "150/150 [==============================] - 13s 89ms/step - loss: 4.9572e-04\n",
      "Epoch 24/30\n",
      "150/150 [==============================] - 13s 87ms/step - loss: 4.9799e-04\n",
      "Epoch 25/30\n",
      "150/150 [==============================] - 13s 88ms/step - loss: 4.9948e-04\n",
      "Epoch 26/30\n",
      "150/150 [==============================] - 13s 89ms/step - loss: 4.5097e-04\n",
      "Epoch 27/30\n",
      "150/150 [==============================] - 13s 88ms/step - loss: 5.9876e-04\n",
      "Epoch 28/30\n",
      "150/150 [==============================] - 13s 87ms/step - loss: 4.6787e-04\n",
      "Epoch 29/30\n",
      "150/150 [==============================] - 13s 86ms/step - loss: 3.8291e-04\n",
      "Epoch 30/30\n",
      "150/150 [==============================] - 14s 93ms/step - loss: 4.6384e-04\n"
     ]
    },
    {
     "data": {
      "text/plain": [
       "<keras.src.callbacks.History at 0x20959968130>"
      ]
     },
     "execution_count": 20,
     "metadata": {},
     "output_type": "execute_result"
    }
   ],
   "source": [
    "model.compile(optimizer = 'adam', loss = 'mean_squared_error')\n",
    "\n",
    "model.fit(X_train, y_train, epochs = 30, batch_size = 8)"
   ]
  },
  {
   "cell_type": "code",
   "execution_count": 21,
   "metadata": {},
   "outputs": [
    {
     "data": {
      "text/plain": [
       "[<matplotlib.lines.Line2D at 0x20947c13a00>]"
      ]
     },
     "execution_count": 21,
     "metadata": {},
     "output_type": "execute_result"
    },
    {
     "data": {
      "image/png": "[encoded data removed]",
      "text/plain": [
       "<Figure size 640x480 with 1 Axes>"
      ]
     },
     "metadata": {},
     "output_type": "display_data"
    }
   ],
   "source": [
    "loss_per_epoch = model.history.history[\"loss\"]\n",
    "\n",
    "plt.plot(range(len(loss_per_epoch)), loss_per_epoch)"
   ]
  },
  {
   "cell_type": "markdown",
   "metadata": {},
   "source": [
    "# 4. Predicting Stock Prices"
   ]
  },
  {
   "cell_type": "code",
   "execution_count": 22,
   "metadata": {},
   "outputs": [],
   "source": [
    "# Getting the REAL stock price of 2017 from test dataset\n",
    "# test dataset are the real values fromn the google stock price \n",
    "test = pd.read_csv('data/Google_Stock_Price_Test.csv')\n",
    "test = test.iloc[:, 1:2].values\n",
    "\n",
    "test = sc.fit_transform(test) \n",
    "\n",
    "y_test = test"
   ]
  },
  {
   "cell_type": "code",
   "execution_count": 23,
   "metadata": {},
   "outputs": [],
   "source": [
    "# concatenate train and test to get the full timeline of stock prices\n",
    "total_data = np.concatenate((train, test), axis = 0)\n",
    "\n",
    "# the next line takes stock prices before 60 days in account for each test data \n",
    "test = total_data[- (len(test)+60):]\n",
    "test = test.reshape(-1,1)"
   ]
  },
  {
   "cell_type": "code",
   "execution_count": 24,
   "metadata": {},
   "outputs": [],
   "source": [
    "#the same steps we have done in training, will be done here in predicting as swell\n",
    "X_test = []\n",
    "\n",
    "# keep in mind that test dataset has just 20 financial days\n",
    "for i in range(60, 80):\n",
    "    X_test.append(test[i-60:i, 0])\n",
    "X_test = np.array(X_test)"
   ]
  },
  {
   "cell_type": "code",
   "execution_count": 25,
   "metadata": {},
   "outputs": [],
   "source": [
    "# create the 3d format as we have done in trainging part\n",
    "X_test = np.reshape(X_test, (X_test.shape[0], X_test.shape[1], 1))"
   ]
  },
  {
   "cell_type": "code",
   "execution_count": 26,
   "metadata": {},
   "outputs": [
    {
     "name": "stdout",
     "output_type": "stream",
     "text": [
      "1/1 [==============================] - 2s 2s/step\n"
     ]
    }
   ],
   "source": [
    "# predicting will be done here \n",
    "y_pred = model.predict(X_test)"
   ]
  },
  {
   "cell_type": "code",
   "execution_count": 27,
   "metadata": {},
   "outputs": [
    {
     "data": {
      "image/png": "[encoded data removed]",
      "text/plain": [
       "<Figure size 640x480 with 1 Axes>"
      ]
     },
     "metadata": {},
     "output_type": "display_data"
    }
   ],
   "source": [
    "# Visualising the results\n",
    "plt.plot(sc.inverse_transform(y_test), color = 'red', label = 'Real Google Stock Price')\n",
    "plt.plot(sc.inverse_transform(y_pred), color = 'blue', label = 'Predicted Google Stock Price')\n",
    "plt.title('Google Stock Price Prediction')\n",
    "plt.xlabel('Time')\n",
    "plt.ylabel('Google Stock Price')\n",
    "plt.legend()\n",
    "plt.show()"
   ]
  }
 ],
 "metadata": {
  "kernelspec": {
   "display_name": "Python 3",
   "language": "python",
   "name": "python3"
  },
  "language_info": {
   "codemirror_mode": {
    "name": "ipython",
    "version": 3
   },
   "file_extension": ".py",
   "mimetype": "text/x-python",
   "name": "python",
   "nbconvert_exporter": "python",
   "pygments_lexer": "ipython3",
   "version": "3.10.11"
  },
  "orig_nbformat": 4
 },
 "nbformat": 4,
 "nbformat_minor": 2
}
